{
 "cells": [
  {
   "cell_type": "code",
   "execution_count": null,
   "metadata": {},
   "outputs": [],
   "source": [
    "import numpy as np\n",
    "from eos_nuclear import NuclearEOS, EOSVariable, EOSMode"
   ]
  },
  {
   "cell_type": "code",
   "execution_count": null,
   "metadata": {},
   "outputs": [],
   "source": [
    "table=\"SFHo.h5\"\n",
    "neos = NuclearEOS(table)"
   ]
  },
  {
   "cell_type": "code",
   "execution_count": null,
   "metadata": {},
   "outputs": [],
   "source": [
    "temp_mev_to_kelvin = 1.1604447522806e10\n",
    "KtoMeV = 1./temp_mev_to_kelvin\n",
    "MeVtoK = temp_mev_to_kelvin"
   ]
  },
  {
   "cell_type": "code",
   "execution_count": null,
   "metadata": {},
   "outputs": [],
   "source": [
    "# Define the Eos variable\n",
    "\n",
    "var = EOSVariable()\n",
    "var.xrho = 1136838038.5324309\n",
    "var.xtemp = 2480400312.9113331 * KtoMeV\n",
    "var.xye = 0.48406067461243985\n",
    "var.xent = 1000.0\n",
    "print(var.xrho, var.xtemp, var.xye)"
   ]
  },
  {
   "cell_type": "code",
   "execution_count": null,
   "metadata": {},
   "outputs": [],
   "source": [
    "# Temperature Mode\n",
    "\n",
    "mode = EOSMode()\n",
    "\n",
    "var = neos.nuc_eos_short(var,mode=EOSMode.RHOS)\n",
    "print(\"###########################################\")\n",
    "print( \"Short EOS ---------------------------------\")\n",
    "print(var.xrho,var.xtemp,var.xye)\n",
    "print(var.xenr,var.xprs,var.xent,np.sqrt(var.xcs2))\n",
    "print(var.xdedt,var.xdpdrhoe,var.xdpderho)\n"
   ]
  },
  {
   "cell_type": "code",
   "execution_count": null,
   "metadata": {},
   "outputs": [],
   "source": [
    "var = neos.nuc_eos_full(var,mode=EOSMode.RHOT)\n",
    "print(\"###########################################\")\n",
    "print(\"Full EOS ----------------------------------\")\n",
    "print(var.xrho,var.xtemp,var.xye)\n",
    "print(var.xenr,var.xprs,var.xent,np.sqrt(var.xcs2))\n",
    "print(var.xdedt,var.xdpdrhoe,var.xdpderho)\n",
    "print(var.xabar,var.xzbar)\n",
    "print(var.xxa,var.xxh,var.xxn,var.xxp)\n",
    "print(var.xmu_e,var.xmu_p,var.xmu_n,var.xmuhat)\n",
    "\n"
   ]
  },
  {
   "cell_type": "code",
   "execution_count": null,
   "metadata": {},
   "outputs": [],
   "source": [
    "var.xtemp = 2.0*var.xtemp\n",
    "var = neos.nuc_eos_full(var,mode=mode.RHOE)\n",
    "print(\"###########################################\")\n",
    "print(\"Full EOS ----------------------------------\")\n",
    "print(var.xrho,var.xtemp,var.xye)\n",
    "print(var.xenr,var.xprs,var.xent,np.sqrt(var.xcs2))\n",
    "print(var.xdedt,var.xdpdrhoe,var.xdpderho)\n",
    "print(var.xabar,var.xzbar)\n",
    "print(var.xxa,var.xxh,var.xxn,var.xxp)\n",
    "print(var.xmu_e,var.xmu_p,var.xmu_n,var.xmuhat)\n",
    "print(\"###########################################\")"
   ]
  },
  {
   "cell_type": "code",
   "execution_count": null,
   "metadata": {},
   "outputs": [],
   "source": []
  },
  {
   "cell_type": "code",
   "execution_count": null,
   "metadata": {},
   "outputs": [],
   "source": []
  }
 ],
 "metadata": {
  "kernelspec": {
   "display_name": "yt4.3",
   "language": "python",
   "name": "python3"
  },
  "language_info": {
   "codemirror_mode": {
    "name": "ipython",
    "version": 3
   },
   "file_extension": ".py",
   "mimetype": "text/x-python",
   "name": "python",
   "nbconvert_exporter": "python",
   "pygments_lexer": "ipython3",
   "version": "3.11.4"
  }
 },
 "nbformat": 4,
 "nbformat_minor": 2
}
